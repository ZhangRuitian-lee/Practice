{
 "cells": [
  {
   "cell_type": "markdown",
   "metadata": {},
   "source": [
    "## 国家财政数据趋势演算"
   ]
  },
  {
   "cell_type": "code",
   "execution_count": 3,
   "metadata": {},
   "outputs": [],
   "source": [
    "ls = [\n",
    "    ['指标','2000年','2015年','2016年'],\n",
    "    ['全部收入','13395.2','152269.2','159605'],\n",
    "    ['中央收入','6989.2','69267.2','72365.6'],\n",
    "    ['地方收入','6406.1','83002','87239.4'],\n",
    "    ['全部支出','15886.5','175877.8','187755.2'],\n",
    "    ['中央支出','5519.9','25542.2','27403.9'],\n",
    "    ['地方支出','10366.7','150335.6','160351.4']\n",
    "]\n",
    "file = open('finance.csv','w') \n",
    "for row in ls:\n",
    "    file.write(','.join(row)+'\\n')\n",
    "file.close()"
   ]
  },
  {
   "cell_type": "code",
   "execution_count": 4,
   "metadata": {},
   "outputs": [
    {
     "name": "stdout",
     "output_type": "stream",
     "text": [
      "[['指标', '2000年', '2015年', '2016年'], ['全部收入', '13395.2', '152269.2', '159605'], ['中央收入', '6989.2', '69267.2', '72365.6'], ['地方收入', '6406.1', '83002', '87239.4'], ['全部支出', '15886.5', '175877.8', '187755.2'], ['中央支出', '5519.9', '25542.2', '27403.9'], ['地方支出', '10366.7', '150335.6', '160351.4']]\n"
     ]
    }
   ],
   "source": [
    "file = open('finance.csv','r')\n",
    "list = []\n",
    "for line in file:\n",
    "    list.append(line.strip('\\n').split(','))\n",
    "file.close()\n",
    "print(list)"
   ]
  },
  {
   "cell_type": "markdown",
   "metadata": {},
   "source": [
    "### 目标是在2010,2015,2016三年的数据基础上，采用线性回归预测2011-2014年的财政数据"
   ]
  },
  {
   "cell_type": "code",
   "execution_count": 10,
   "metadata": {},
   "outputs": [
    {
     "name": "stdout",
     "output_type": "stream",
     "text": [
      "                         国家财政收支线性估计                         \n",
      "指标              2010      2011      2012      2013      2014      2015      2016\n",
      "全部收入        105359.6  114550.1  123740.6  132931.0  142121.5  151312.0  160502.4\n",
      "中央收入         48169.1   52283.8   56398.5   60513.2   64627.9   68742.7   72857.4\n",
      "地方收入         57190.6   62266.3   67342.1   72417.8   77493.6   82569.3   87645.1\n",
      "全部支出        122936.9  133645.7  144354.5  155063.3  165772.1  176480.9  187189.8\n",
      "中央支出         19037.5   20390.9   21744.3   23097.7   24451.1   25804.5   27157.9\n",
      "地方支出        103899.4  113254.8  122610.2  131965.6  141321.0  150676.4  160031.9\n"
     ]
    }
   ],
   "source": [
    "def parseCSV(filename):\n",
    "    dataNames,data = [],[]\n",
    "    f= open(filename,'r')\n",
    "    for line in f:\n",
    "        splitedLine = line.strip('\\n').split(',')\n",
    "        if '指标' in splitedLine[0]:\n",
    "            years = [int(x[:-1]) for x in splitedLine[1:]]\n",
    "        else:\n",
    "            dataNames.append('{:10}'.format(splitedLine[0]))\n",
    "            data.append([float(x) for x in splitedLine[1:]])\n",
    "    f.close()\n",
    "    return years,dataNames,data\n",
    "\n",
    "def means(data):\n",
    "    return sum(data)/len(data)\n",
    "\n",
    "def linearRegression(xlist,ylist):\n",
    "    xmeans,ymeans = means(xlist),means(ylist)\n",
    "    bNumerator = -len(xlist) * xmeans * ymeans\n",
    "    bDenominator = -len(xlist) * xmeans ** 2\n",
    "    for x,y in zip(xlist,ylist):\n",
    "        bNumerator += x * y\n",
    "        bDenominator += x ** 2\n",
    "    b = bNumerator / bDenominator \n",
    "    a = ymeans - b * xmeans\n",
    "    return a,b\n",
    "\n",
    "def calNewData(newyears,a,b):\n",
    "    return [(a + b * x) for x in newyears]\n",
    "\n",
    "def showResults(years,dataNames,newDatas):\n",
    "    print('{:^60}'.format('国家财政收支线性估计'))\n",
    "    header = '指标        '\n",
    "    for year in years:\n",
    "        header += '{:10}'.format(year)\n",
    "    print(header)\n",
    "    for name,lineData in zip(dataNames,newDatas):\n",
    "        line = name \n",
    "        for data in lineData:\n",
    "            line += '{:>10.1f}'.format(data)\n",
    "        print(line)\n",
    "        \n",
    "def main():\n",
    "    newyears = [x+2010 for x in range(7)]\n",
    "    newDatas = []\n",
    "    years, dataNames,datas = parseCSV('finance.csv')\n",
    "    for data in datas:\n",
    "        a,b = linearRegression(years, data)\n",
    "        newDatas.append(calNewData(newyears,a,b))\n",
    "    showResults(newyears,dataNames,newDatas)\n",
    "main()"
   ]
  }
 ],
 "metadata": {
  "kernelspec": {
   "display_name": "Python 3",
   "language": "python",
   "name": "python3"
  },
  "language_info": {
   "codemirror_mode": {
    "name": "ipython",
    "version": 3
   },
   "file_extension": ".py",
   "mimetype": "text/x-python",
   "name": "python",
   "nbconvert_exporter": "python",
   "pygments_lexer": "ipython3",
   "version": "3.7.0"
  }
 },
 "nbformat": 4,
 "nbformat_minor": 2
}

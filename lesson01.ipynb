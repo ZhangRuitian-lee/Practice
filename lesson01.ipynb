{
 "cells": [
  {
   "cell_type": "markdown",
   "metadata": {},
   "source": [
    "# NLP-lesson01"
   ]
  },
  {
   "cell_type": "code",
   "execution_count": 2,
   "metadata": {},
   "outputs": [],
   "source": [
    "import random"
   ]
  },
  {
   "cell_type": "code",
   "execution_count": 3,
   "metadata": {},
   "outputs": [],
   "source": [
    "def adj():\n",
    "    return random.choice(' 蓝色的 | 好看的 | 小小的'.split('|')).split()[0]"
   ]
  },
  {
   "cell_type": "code",
   "execution_count": 4,
   "metadata": {},
   "outputs": [
    {
     "data": {
      "text/plain": [
       "'小小的'"
      ]
     },
     "execution_count": 4,
     "metadata": {},
     "output_type": "execute_result"
    }
   ],
   "source": [
    "adj()"
   ]
  },
  {
   "cell_type": "code",
   "execution_count": 5,
   "metadata": {},
   "outputs": [],
   "source": [
    "def adj_():\n",
    "    return random.choice([lambda : '', lambda : adj() + adj_()])"
   ]
  },
  {
   "cell_type": "code",
   "execution_count": 6,
   "metadata": {},
   "outputs": [
    {
     "data": {
      "text/plain": [
       "<function __main__.adj_.<locals>.<lambda>()>"
      ]
     },
     "execution_count": 6,
     "metadata": {},
     "output_type": "execute_result"
    }
   ],
   "source": [
    "adj_()"
   ]
  },
  {
   "cell_type": "code",
   "execution_count": 7,
   "metadata": {},
   "outputs": [],
   "source": [
    "def adj_():\n",
    "    return random.choice([lambda : '', lambda : adj() + adj_()])()"
   ]
  },
  {
   "cell_type": "code",
   "execution_count": 8,
   "metadata": {},
   "outputs": [
    {
     "data": {
      "text/plain": [
       "'蓝色的小小的'"
      ]
     },
     "execution_count": 8,
     "metadata": {},
     "output_type": "execute_result"
    }
   ],
   "source": [
    "adj_()"
   ]
  },
  {
   "cell_type": "code",
   "execution_count": 9,
   "metadata": {},
   "outputs": [],
   "source": [
    "adj_grammar = \"\"\"\n",
    "adj* => null | adj adj*\n",
    "adj =>  蓝色的 | 好看的 | 小小的\n",
    "\"\"\""
   ]
  },
  {
   "cell_type": "markdown",
   "metadata": {},
   "source": [
    "设置一种新的语法,达到目的：当输入数据变化时，不需要重写程序。"
   ]
  },
  {
   "cell_type": "code",
   "execution_count": 10,
   "metadata": {},
   "outputs": [],
   "source": [
    "def create_grammar(grammar_str, split='=>', line_split='\\n'):\n",
    "    grammar = {}\n",
    "    for eachline in grammar_str.split(line_split):\n",
    "        if not eachline.strip(): continue\n",
    "        x, y = eachline.split(split)\n",
    "        grammar[x.strip()] = [z.split() for z in y.split('|')]\n",
    "    return grammar"
   ]
  },
  {
   "cell_type": "code",
   "execution_count": 11,
   "metadata": {},
   "outputs": [],
   "source": [
    "g = create_grammar(adj_grammar)"
   ]
  },
  {
   "cell_type": "code",
   "execution_count": 12,
   "metadata": {},
   "outputs": [
    {
     "data": {
      "text/plain": [
       "[['null'], ['adj', 'adj*']]"
      ]
     },
     "execution_count": 12,
     "metadata": {},
     "output_type": "execute_result"
    }
   ],
   "source": [
    "g['adj*']"
   ]
  },
  {
   "cell_type": "code",
   "execution_count": 13,
   "metadata": {},
   "outputs": [
    {
     "data": {
      "text/plain": [
       "{'adj*': [['null'], ['adj', 'adj*']], 'adj': [['蓝色的'], ['好看的'], ['小小的']]}"
      ]
     },
     "execution_count": 13,
     "metadata": {},
     "output_type": "execute_result"
    }
   ],
   "source": [
    "g"
   ]
  },
  {
   "cell_type": "code",
   "execution_count": 14,
   "metadata": {},
   "outputs": [],
   "source": [
    "simple_grammar = \"\"\"\n",
    "sentence => noun_phrase  verb_phrase\n",
    "noun_phrase => Article   Adj* noun\n",
    "Adj* => null | Adj Adj*\n",
    "verb_phrase => verb noun_phrase\n",
    "Article =>  一个 | 这个\n",
    "noun =>   女人 |  篮球 | 桌子 | 小猫\n",
    "verb => 看着   |  坐在 |  听着 | 看见\n",
    "Adj =>  蓝色的 | 好看的 | 小小的\n",
    "\"\"\""
   ]
  },
  {
   "cell_type": "code",
   "execution_count": 15,
   "metadata": {},
   "outputs": [],
   "source": [
    "ex = create_grammar(simple_grammar)"
   ]
  },
  {
   "cell_type": "code",
   "execution_count": 16,
   "metadata": {},
   "outputs": [
    {
     "data": {
      "text/plain": [
       "{'sentence': [['noun_phrase', 'verb_phrase']],\n",
       " 'noun_phrase': [['Article', 'Adj*', 'noun']],\n",
       " 'Adj*': [['null'], ['Adj', 'Adj*']],\n",
       " 'verb_phrase': [['verb', 'noun_phrase']],\n",
       " 'Article': [['一个'], ['这个']],\n",
       " 'noun': [['女人'], ['篮球'], ['桌子'], ['小猫']],\n",
       " 'verb': [['看着'], ['坐在'], ['听着'], ['看见']],\n",
       " 'Adj': [['蓝色的'], ['好看的'], ['小小的']]}"
      ]
     },
     "execution_count": 16,
     "metadata": {},
     "output_type": "execute_result"
    }
   ],
   "source": [
    "ex"
   ]
  },
  {
   "cell_type": "code",
   "execution_count": 17,
   "metadata": {},
   "outputs": [],
   "source": [
    "def generate(x, y):\n",
    "    if y not in x:\n",
    "        return y \n",
    "        # means target is a terminal expression\n",
    "    z = [generate(x, t) for t in random.choice(x[y])] \n",
    "    # 还有则继续扩展，每个都扩展\n",
    "    return ''.join([e for e in z if e != 'null'])\n",
    "    # 把null排除掉\n",
    "    "
   ]
  },
  {
   "cell_type": "code",
   "execution_count": 149,
   "metadata": {},
   "outputs": [],
   "source": [
    "def generate1(x, y):\n",
    "    if y not in x:\n",
    "        return y \n",
    "        # means target is a terminal expression\n",
    "    z = [generate(x, t) for t in random.choice(x[y])] \n",
    "    return z"
   ]
  },
  {
   "cell_type": "code",
   "execution_count": 150,
   "metadata": {},
   "outputs": [
    {
     "data": {
      "text/plain": [
       "[[['一个'], [['好看的'], [['小小的'], [['小小的'], [['蓝色的'], ['null']]]]], ['小猫']],\n",
       " [['看见'], [['这个'], [['蓝色的'], ['null']], ['小猫']]]]"
      ]
     },
     "execution_count": 150,
     "metadata": {},
     "output_type": "execute_result"
    }
   ],
   "source": [
    "generate1(ex,'sentence')"
   ]
  },
  {
   "cell_type": "code",
   "execution_count": 151,
   "metadata": {},
   "outputs": [
    {
     "data": {
      "text/plain": [
       "[['这个'], ['null'], ['女人']]"
      ]
     },
     "execution_count": 151,
     "metadata": {},
     "output_type": "execute_result"
    }
   ],
   "source": [
    "generate1(ex,'noun_phrase')"
   ]
  },
  {
   "cell_type": "code",
   "execution_count": 152,
   "metadata": {},
   "outputs": [
    {
     "data": {
      "text/plain": [
       "['这个']"
      ]
     },
     "execution_count": 152,
     "metadata": {},
     "output_type": "execute_result"
    }
   ],
   "source": [
    "generate(ex,'Article')"
   ]
  },
  {
   "cell_type": "code",
   "execution_count": 18,
   "metadata": {},
   "outputs": [
    {
     "data": {
      "text/plain": [
       "'这个篮球坐在这个小猫'"
      ]
     },
     "execution_count": 18,
     "metadata": {},
     "output_type": "execute_result"
    }
   ],
   "source": [
    "generate(ex, 'sentence')"
   ]
  },
  {
   "cell_type": "code",
   "execution_count": 19,
   "metadata": {},
   "outputs": [],
   "source": [
    "\n",
    "#在西部世界里，一个”人类“的语言可以定义为：\n",
    "\n",
    "human = \"\"\"\n",
    "human = 自己 寻找 活动\n",
    "自己 = 我 | 俺 | 我们 \n",
    "寻找 = 找找 | 想找点 \n",
    "活动 = 乐子 | 玩的\n",
    "\"\"\"\n",
    "\n",
    "\n",
    "#一个“接待员”的语言可以定义为\n",
    "\n",
    "host = \"\"\"\n",
    "host = 寒暄 报数 询问 业务相关 结尾 \n",
    "报数 = 我是 数字 号 ,\n",
    "数字 = 单个数字 | 数字 单个数字 \n",
    "单个数字 = 1 | 2 | 3 | 4 | 5 | 6 | 7 | 8 | 9 \n",
    "寒暄 = 称谓 打招呼 | 打招呼\n",
    "称谓 = 人称 ,\n",
    "人称 = 先生 | 女士 | 小朋友\n",
    "打招呼 = 你好 | 您好 \n",
    "询问 = 请问你要 | 您需要\n",
    "业务相关 = 玩玩 具体业务\n",
    "玩玩 = null\n",
    "具体业务 = 喝酒 | 打牌 | 打猎 | 赌博\n",
    "结尾 = 吗？\n",
    "\"\"\""
   ]
  },
  {
   "cell_type": "code",
   "execution_count": 21,
   "metadata": {},
   "outputs": [
    {
     "name": "stdout",
     "output_type": "stream",
     "text": [
      "你好我是9号,请问你要打猎吗？\n",
      "你好我是953号,您需要打猎吗？\n",
      "您好我是3号,请问你要打牌吗？\n",
      "小朋友,你好我是4号,请问你要打猎吗？\n",
      "小朋友,您好我是68号,您需要打猎吗？\n",
      "小朋友,你好我是16号,您需要打猎吗？\n",
      "先生,您好我是9号,您需要喝酒吗？\n",
      "你好我是3号,您需要打猎吗？\n",
      "你好我是71号,您需要打猎吗？\n",
      "女士,你好我是4号,请问你要打牌吗？\n",
      "小朋友,你好我是7号,您需要打猎吗？\n",
      "您好我是523号,您需要打猎吗？\n",
      "小朋友,您好我是2号,请问你要赌博吗？\n",
      "小朋友,您好我是53号,请问你要打猎吗？\n",
      "小朋友,您好我是7号,请问你要打猎吗？\n",
      "女士,你好我是36号,请问你要喝酒吗？\n",
      "小朋友,您好我是27号,请问你要打猎吗？\n",
      "女士,您好我是1号,您需要打牌吗？\n",
      "你好我是3号,请问你要赌博吗？\n",
      "小朋友,您好我是6号,请问你要打牌吗？\n"
     ]
    }
   ],
   "source": [
    "for i in range(20):\n",
    "    print(generate(create_grammar(host,split='='),'host'))"
   ]
  },
  {
   "cell_type": "code",
   "execution_count": 22,
   "metadata": {},
   "outputs": [],
   "source": [
    "programming = \"\"\"\n",
    "stmt => if_exp | while_exp | assignment \n",
    "assignment => var = var\n",
    "if_exp => if ( var ) { /n .... stmt }\n",
    "while_exp=> while ( var ) { /n .... stmt }\n",
    "var => chars number\n",
    "chars => char | char char\n",
    "char => student | name | info  | database | course\n",
    "number => 1 | 2 | 3\n",
    "\"\"\""
   ]
  },
  {
   "cell_type": "code",
   "execution_count": 25,
   "metadata": {},
   "outputs": [
    {
     "name": "stdout",
     "output_type": "stream",
     "text": [
      "namedatabase1=info2\n",
      "while(studentinfo1){/n....coursedatabase2=course2}\n",
      "if(studentname2){/n....while(namestudent2){/n....while(databasedatabase3){/n....if(info1){/n....while(databasename1){/n....name2=course1}}}}}\n",
      "while(coursedatabase3){/n....while(student1){/n....while(namedatabase1){/n....while(info2){/n....while(courseinfo2){/n....while(info2){/n....if(studentdatabase2){/n....if(infodatabase3){/n....while(database1){/n....while(databaseinfo1){/n....studentname1=namedatabase3}}}}}}}}}}\n",
      "while(course3){/n....while(studentstudent2){/n....if(database2){/n....if(info3){/n....studentstudent2=databasestudent3}}}}\n",
      "while(infocourse3){/n....if(nameinfo2){/n....info2=info2}}\n",
      "if(studentcourse3){/n....if(infoinfo1){/n....database3=nameinfo1}}\n",
      "if(course3){/n....if(infostudent1){/n....if(coursedatabase3){/n....if(database1){/n....database1=infodatabase1}}}}\n",
      "while(studentinfo2){/n....while(name3){/n....while(name1){/n....if(database2){/n....if(student2){/n....while(info1){/n....if(coursecourse1){/n....while(name2){/n....while(info1){/n....while(info1){/n....while(student3){/n....while(databasecourse3){/n....if(name2){/n....info3=info3}}}}}}}}}}}}}\n",
      "if(student2){/n....infocourse3=info1}\n",
      "if(course3){/n....if(name2){/n....name3=studentdatabase2}}\n",
      "while(info2){/n....info2=databaseinfo3}\n",
      "coursestudent3=databasename2\n",
      "database3=database3\n",
      "if(name2){/n....if(courseinfo1){/n....while(namename3){/n....while(infoinfo1){/n....name2=namename2}}}}\n",
      "coursename3=student1\n",
      "while(infodatabase3){/n....while(course2){/n....while(studentstudent2){/n....name1=course2}}}\n",
      "if(studentdatabase3){/n....namecourse2=namename3}\n",
      "if(info3){/n....databasestudent1=nameinfo3}\n",
      "if(studentinfo3){/n....if(name2){/n....if(student1){/n....while(databasestudent2){/n....infoname1=student3}}}}\n"
     ]
    }
   ],
   "source": [
    "for i in range(20):\n",
    "    print(generate(create_grammar(programming,split='=>'),'stmt'))"
   ]
  },
  {
   "cell_type": "code",
   "execution_count": 27,
   "metadata": {},
   "outputs": [
    {
     "name": "stdout",
     "output_type": "stream",
     "text": [
      "if(studentcourse1){/n....while(studentcourse2){/n....if(studentinfo1){/n....while(course1){/n....while(name2){/n....studentname1=databasestudent1}}}}}\n"
     ]
    }
   ],
   "source": [
    "print(generate(create_grammar(programming,split='=>'),'stmt'))"
   ]
  },
  {
   "cell_type": "markdown",
   "metadata": {},
   "source": [
    "## language model"
   ]
  },
  {
   "cell_type": "markdown",
   "metadata": {},
   "source": [
    "language_model(str) = Probability(str)\n",
    "Pro(w1w2w3w4) = Pr(w1|w2w3w4)*Pr(w2|w3w4)*Pr(w3|w4)*Pr(w4)\n",
    "Pro(w1w2w3w4)~Pr(w1|w2)*Pr(w2|w3)*Pr(w3|w4)*Pr(w4)\n",
    "how to get Pr(w1|w2w3w4)"
   ]
  },
  {
   "cell_type": "code",
   "execution_count": 28,
   "metadata": {},
   "outputs": [],
   "source": [
    "import pandas as pd"
   ]
  },
  {
   "cell_type": "code",
   "execution_count": 38,
   "metadata": {},
   "outputs": [],
   "source": [
    "filename = 'F:\\\\kaikeba\\\\Artifical-Intelligence\\\\NLP-1\\\\sqlResult_1558435.csv'"
   ]
  },
  {
   "cell_type": "code",
   "execution_count": 40,
   "metadata": {},
   "outputs": [],
   "source": [
    "content = pd.read_csv(filename, encoding='gb18030')"
   ]
  },
  {
   "cell_type": "code",
   "execution_count": 41,
   "metadata": {},
   "outputs": [
    {
     "data": {
      "text/html": [
       "<div>\n",
       "<style scoped>\n",
       "    .dataframe tbody tr th:only-of-type {\n",
       "        vertical-align: middle;\n",
       "    }\n",
       "\n",
       "    .dataframe tbody tr th {\n",
       "        vertical-align: top;\n",
       "    }\n",
       "\n",
       "    .dataframe thead th {\n",
       "        text-align: right;\n",
       "    }\n",
       "</style>\n",
       "<table border=\"1\" class=\"dataframe\">\n",
       "  <thead>\n",
       "    <tr style=\"text-align: right;\">\n",
       "      <th></th>\n",
       "      <th>id</th>\n",
       "      <th>author</th>\n",
       "      <th>source</th>\n",
       "      <th>content</th>\n",
       "      <th>feature</th>\n",
       "      <th>title</th>\n",
       "      <th>url</th>\n",
       "    </tr>\n",
       "  </thead>\n",
       "  <tbody>\n",
       "    <tr>\n",
       "      <th>0</th>\n",
       "      <td>89617</td>\n",
       "      <td>NaN</td>\n",
       "      <td>快科技@http://www.kkj.cn/</td>\n",
       "      <td>此外，自本周（6月12日）起，除小米手机6等15款机型外，其余机型已暂停更新发布（含开发版/...</td>\n",
       "      <td>{\"type\":\"科技\",\"site\":\"cnbeta\",\"commentNum\":\"37\"...</td>\n",
       "      <td>小米MIUI 9首批机型曝光：共计15款</td>\n",
       "      <td>http://www.cnbeta.com/articles/tech/623597.htm</td>\n",
       "    </tr>\n",
       "    <tr>\n",
       "      <th>1</th>\n",
       "      <td>89616</td>\n",
       "      <td>NaN</td>\n",
       "      <td>快科技@http://www.kkj.cn/</td>\n",
       "      <td>骁龙835作为唯一通过Windows 10桌面平台认证的ARM处理器，高通强调，不会因为只考...</td>\n",
       "      <td>{\"type\":\"科技\",\"site\":\"cnbeta\",\"commentNum\":\"15\"...</td>\n",
       "      <td>骁龙835在Windows 10上的性能表现有望改善</td>\n",
       "      <td>http://www.cnbeta.com/articles/tech/623599.htm</td>\n",
       "    </tr>\n",
       "    <tr>\n",
       "      <th>2</th>\n",
       "      <td>89615</td>\n",
       "      <td>NaN</td>\n",
       "      <td>快科技@http://www.kkj.cn/</td>\n",
       "      <td>此前的一加3T搭载的是3400mAh电池，DashCharge快充规格为5V/4A。\\r\\n...</td>\n",
       "      <td>{\"type\":\"科技\",\"site\":\"cnbeta\",\"commentNum\":\"18\"...</td>\n",
       "      <td>一加手机5细节曝光：3300mAh、充半小时用1天</td>\n",
       "      <td>http://www.cnbeta.com/articles/tech/623601.htm</td>\n",
       "    </tr>\n",
       "    <tr>\n",
       "      <th>3</th>\n",
       "      <td>89614</td>\n",
       "      <td>NaN</td>\n",
       "      <td>新华社</td>\n",
       "      <td>这是6月18日在葡萄牙中部大佩德罗冈地区拍摄的被森林大火烧毁的汽车。新华社记者张立云摄\\r\\n</td>\n",
       "      <td>{\"type\":\"国际新闻\",\"site\":\"环球\",\"commentNum\":\"0\",\"j...</td>\n",
       "      <td>葡森林火灾造成至少62人死亡 政府宣布进入紧急状态（组图）</td>\n",
       "      <td>http://world.huanqiu.com/hot/2017-06/10866126....</td>\n",
       "    </tr>\n",
       "    <tr>\n",
       "      <th>4</th>\n",
       "      <td>89613</td>\n",
       "      <td>胡淑丽_MN7479</td>\n",
       "      <td>深圳大件事</td>\n",
       "      <td>（原标题：44岁女子跑深圳约会网友被拒，暴雨中裸身奔走……）\\r\\n@深圳交警微博称：昨日清...</td>\n",
       "      <td>{\"type\":\"新闻\",\"site\":\"网易热门\",\"commentNum\":\"978\",...</td>\n",
       "      <td>44岁女子约网友被拒暴雨中裸奔 交警为其披衣相随</td>\n",
       "      <td>http://news.163.com/17/0618/00/CN617P3Q0001875...</td>\n",
       "    </tr>\n",
       "  </tbody>\n",
       "</table>\n",
       "</div>"
      ],
      "text/plain": [
       "      id      author                  source  \\\n",
       "0  89617         NaN  快科技@http://www.kkj.cn/   \n",
       "1  89616         NaN  快科技@http://www.kkj.cn/   \n",
       "2  89615         NaN  快科技@http://www.kkj.cn/   \n",
       "3  89614         NaN                     新华社   \n",
       "4  89613  胡淑丽_MN7479                   深圳大件事   \n",
       "\n",
       "                                             content  \\\n",
       "0  此外，自本周（6月12日）起，除小米手机6等15款机型外，其余机型已暂停更新发布（含开发版/...   \n",
       "1  骁龙835作为唯一通过Windows 10桌面平台认证的ARM处理器，高通强调，不会因为只考...   \n",
       "2  此前的一加3T搭载的是3400mAh电池，DashCharge快充规格为5V/4A。\\r\\n...   \n",
       "3    这是6月18日在葡萄牙中部大佩德罗冈地区拍摄的被森林大火烧毁的汽车。新华社记者张立云摄\\r\\n   \n",
       "4  （原标题：44岁女子跑深圳约会网友被拒，暴雨中裸身奔走……）\\r\\n@深圳交警微博称：昨日清...   \n",
       "\n",
       "                                             feature  \\\n",
       "0  {\"type\":\"科技\",\"site\":\"cnbeta\",\"commentNum\":\"37\"...   \n",
       "1  {\"type\":\"科技\",\"site\":\"cnbeta\",\"commentNum\":\"15\"...   \n",
       "2  {\"type\":\"科技\",\"site\":\"cnbeta\",\"commentNum\":\"18\"...   \n",
       "3  {\"type\":\"国际新闻\",\"site\":\"环球\",\"commentNum\":\"0\",\"j...   \n",
       "4  {\"type\":\"新闻\",\"site\":\"网易热门\",\"commentNum\":\"978\",...   \n",
       "\n",
       "                           title  \\\n",
       "0           小米MIUI 9首批机型曝光：共计15款   \n",
       "1     骁龙835在Windows 10上的性能表现有望改善   \n",
       "2      一加手机5细节曝光：3300mAh、充半小时用1天   \n",
       "3  葡森林火灾造成至少62人死亡 政府宣布进入紧急状态（组图）   \n",
       "4       44岁女子约网友被拒暴雨中裸奔 交警为其披衣相随   \n",
       "\n",
       "                                                 url  \n",
       "0     http://www.cnbeta.com/articles/tech/623597.htm  \n",
       "1     http://www.cnbeta.com/articles/tech/623599.htm  \n",
       "2     http://www.cnbeta.com/articles/tech/623601.htm  \n",
       "3  http://world.huanqiu.com/hot/2017-06/10866126....  \n",
       "4  http://news.163.com/17/0618/00/CN617P3Q0001875...  "
      ]
     },
     "execution_count": 41,
     "metadata": {},
     "output_type": "execute_result"
    }
   ],
   "source": [
    "content.head()"
   ]
  },
  {
   "cell_type": "code",
   "execution_count": 42,
   "metadata": {},
   "outputs": [],
   "source": [
    "articles = content['content'].tolist()"
   ]
  },
  {
   "cell_type": "code",
   "execution_count": 43,
   "metadata": {},
   "outputs": [
    {
     "data": {
      "text/plain": [
       "89611"
      ]
     },
     "execution_count": 43,
     "metadata": {},
     "output_type": "execute_result"
    }
   ],
   "source": [
    "len(articles)"
   ]
  },
  {
   "cell_type": "code",
   "execution_count": 44,
   "metadata": {},
   "outputs": [],
   "source": [
    "import re"
   ]
  },
  {
   "cell_type": "code",
   "execution_count": 45,
   "metadata": {},
   "outputs": [],
   "source": [
    "def token(string):\n",
    "    return re.findall('\\w+', string)\n",
    "# 通过正则表达式将\\r\\n这些筛选掉"
   ]
  },
  {
   "cell_type": "code",
   "execution_count": 47,
   "metadata": {},
   "outputs": [],
   "source": [
    "from collections import Counter"
   ]
  },
  {
   "cell_type": "code",
   "execution_count": 48,
   "metadata": {},
   "outputs": [
    {
     "data": {
      "text/plain": [
       "'此外，自本周（6月12日）起，除小米手机6等15款机型外，其余机型已暂停更新发布（含开发版/体验版内测，稳定版暂不受影响），以确保工程师可以集中全部精力进行系统优化工作。有人猜测这也是将精力主要用到MIUI 9的研发之中。\\r\\nMIUI 8去年5月发布，距今已有一年有余，也是时候更新换代了。\\r\\n当然，关于MIUI 9的确切信息，我们还是等待官方消息。\\r\\n'"
      ]
     },
     "execution_count": 48,
     "metadata": {},
     "output_type": "execute_result"
    }
   ],
   "source": [
    "articles[0]"
   ]
  },
  {
   "cell_type": "code",
   "execution_count": 50,
   "metadata": {},
   "outputs": [
    {
     "data": {
      "text/plain": [
       "['此外',\n",
       " '自本周',\n",
       " '6月12日',\n",
       " '起',\n",
       " '除小米手机6等15款机型外',\n",
       " '其余机型已暂停更新发布',\n",
       " '含开发版',\n",
       " '体验版内测',\n",
       " '稳定版暂不受影响',\n",
       " '以确保工程师可以集中全部精力进行系统优化工作',\n",
       " '有人猜测这也是将精力主要用到MIUI',\n",
       " '9的研发之中',\n",
       " 'MIUI',\n",
       " '8去年5月发布',\n",
       " '距今已有一年有余',\n",
       " '也是时候更新换代了',\n",
       " '当然',\n",
       " '关于MIUI',\n",
       " '9的确切信息',\n",
       " '我们还是等待官方消息']"
      ]
     },
     "execution_count": 50,
     "metadata": {},
     "output_type": "execute_result"
    }
   ],
   "source": [
    "token(articles[0])"
   ]
  },
  {
   "cell_type": "code",
   "execution_count": 51,
   "metadata": {},
   "outputs": [
    {
     "data": {
      "text/plain": [
       "'此外自本周6月12日起除小米手机6等15款机型外其余机型已暂停更新发布含开发版体验版内测稳定版暂不受影响以确保工程师可以集中全部精力进行系统优化工作有人猜测这也是将精力主要用到MIUI9的研发之中MIUI8去年5月发布距今已有一年有余也是时候更新换代了当然关于MIUI9的确切信息我们还是等待官方消息'"
      ]
     },
     "execution_count": 51,
     "metadata": {},
     "output_type": "execute_result"
    }
   ],
   "source": [
    "''.join(token(articles[0]))"
   ]
  },
  {
   "cell_type": "code",
   "execution_count": 56,
   "metadata": {},
   "outputs": [],
   "source": [
    "articles_clean = [''.join(token(str(a))) for a in articles]"
   ]
  },
  {
   "cell_type": "code",
   "execution_count": 57,
   "metadata": {},
   "outputs": [
    {
     "data": {
      "text/plain": [
       "'在外国名著麦田里的守望者中作者想要守护麦田里如自己内心一般纯真的孩子们而驻村干部们也在这个炎热的夏天里撸袖子上阵真正做起了村民们的麦田守望者三夏时节不等人你看到了吗不停翻涌起伏仿若铺陈至天边的金黄麦浪中那若隐若现的人影是自治区新闻出版广电局驻和田市肖尔巴格乡合尼村工作队的队员与工作队组织的青年志愿者在这个炎热的夏季他们深入田间地头帮助村民们收割小麦扛起收麦机麦田中的每个人都显得兴致勃勃一天下来就近22亩小麦收割完毕志愿者麦麦提亚森擦去满脸的汗水高兴地告诉驻村队员我们青年志愿者应该多做贡献为村里的脱贫致富出把力工作队带着我们为村里的老人服务看到那些像我爷爷奶奶一样的老人赞许感谢的目光我体会到了帮助他人的快乐自治区新闻出版广电局驻村工作队孙敏艾力依布拉音麦收时节我们在一起6月中旬的和田墨玉麦田金黄静待收割6月14日15日两天自治区高级人民法院驻和田地区墨玉县吐外特乡罕勒克艾日克村工作队与48名村民志愿者一道帮助村里29户有需要的村民进行小麦收割工作田间地头罕勒克艾日克村志愿队的红旗迎风飘扬格外醒目10余台割麦机一起轰鸣男人们在用机器收割小麦的同时几名妇女也加入到志愿队构成了一道美丽的麦收风景休息空闲工作队员和村民们坐在树荫下田埂上互相问好聊天语言交流有困难就用手势动作比划着聊天有趣地交流方式不时引来阵阵欢笑大家在一同享受丰收和喜悦也一同增进着彼此的情感和友谊自治区高级人民法院驻村工作队周春梅艾地艾木阿不拉细看稻菽千重浪6月15日自治区煤田灭火工程局的干部职工们再一次跋涉1000多公里来到了叶城县萨依巴格乡阿亚格欧尔达贝格村见到了自己的亲戚现场处处都透出掩盖不住的喜悦一声声亲切的谢谢一个个结实的拥抱都透露出浓浓的亲情没坐一会儿在嘘寒问暖中大家了解到在麦收的关键时刻部分村民家中却存在收割难的问题小麦成熟期短收获的时间集中天气的变化对小麦最终产量的影响极大如果不能及时收割会有不小损失的于是大家几乎立刻就决定要帮助亲戚们收割麦子在茂密的麦地里干部们每人手持一把镰刀一字排开挽起衣袖卷起裤腿挥舞着镰刀进行着无声的竞赛骄阳似火汗如雨下但这都挡不住大家的热情随着此起彼伏的镰刀割倒麦子的刷刷声响不一会一束束沉甸甸的麦穗就被整齐地堆放了起来当看到自己亲手收割的金黄色麦穗被一簇簇地打成捆运送到晒场每个人的脸上都露出了灿烂的笑容自治区煤田灭火工程局驻村工作队马浩南这是一个收获多多的季节6月13日清晨6时许和田地区民丰县若雅乡特开墩村的麦田里已经传来马达轰鸣声原来是自治区质监局驻村工作队趁着天气尚且凉爽开始了麦田的收割工作忙碌间隙志愿者队伍搬来清凉的水村民们拎来鲜甜的西瓜抹一把汗水吃一牙西瓜甜蜜的汁水似乎流进了每一个人的心里说起割麦子对于生活在这片土地上的村民来说是再平常不过的事但是对于工作队队员们来说却是陌生的自治区质监局驻民丰县若克雅乡博斯坦村工作队队员们一开始觉得十几个人一起收割二亩地应该会挺快的结果却一点不简单镰刀拿到自己手里割起来考验才真正的开始大家弓着腰弯着腿亦步亦趋手上挥舞着镰刀时刻注意不要让镰刀割到自己脚下还要留心不要把套种的玉米苗踩伤不一会儿就已经汗流浃背了抬头看看身边的村民早就远远地割到前面去了只有今年已经56岁的工作队队长李树刚有割麦经验多少给队员们挽回了些面子赶不上村民们割麦子的速度更不要说搞定收割机这台大家伙了现代化的机械收割能成倍提升小麦的收割速度李树刚说不过能有这样的体验拉近和村民的距离也是很难得的体验自治区质监局驻村工作队王辉马君刚我们是麦田的守护者为了应对麦收新疆银监局驻和田县塔瓦库勒乡也先巴扎村工作队一早就从经济支援和人力支援两方面做好了准备一方面工作队帮村里购入了5台小麦收割机另一边还组织村干部青年团员等组成了6支近百人的收割先锋突击队帮助村民们抢收麦子看着及时归仓的麦子村民们喜得合不拢嘴纷纷摘下自家杏树上的杏子送给工作队金黄的麦穗温暖了村民们的心香甜的杏子温暖了工作队员的心麦子加杏子拉近了村民和队员们的心新疆银监局驻村工作队王继发免责声明本文仅代表作者个人观点与环球网无关其原创性以及文中陈述文字和内容未经本站证实对本文以及其中全部或者部分内容文字的真实性完整性及时性本站不作任何保证或承诺请读者仅作参考并请自行核实相关内容'"
      ]
     },
     "execution_count": 57,
     "metadata": {},
     "output_type": "execute_result"
    }
   ],
   "source": [
    "articles_clean[110]"
   ]
  },
  {
   "cell_type": "code",
   "execution_count": 61,
   "metadata": {},
   "outputs": [],
   "source": [
    "with open('article_lesson01.txt', 'w') as f:\n",
    "    for a in articles_clean:\n",
    "        f.write(a + '\\n')\n",
    "# 文件太大，先写入再结巴分"
   ]
  },
  {
   "cell_type": "code",
   "execution_count": 64,
   "metadata": {},
   "outputs": [],
   "source": [
    "import jieba"
   ]
  },
  {
   "cell_type": "code",
   "execution_count": 65,
   "metadata": {},
   "outputs": [],
   "source": [
    "def cut(string):\n",
    "    return list(jieba.cut(string))"
   ]
  },
  {
   "cell_type": "code",
   "execution_count": 66,
   "metadata": {},
   "outputs": [],
   "source": [
    "TOKEN = []"
   ]
  },
  {
   "cell_type": "code",
   "execution_count": 70,
   "metadata": {},
   "outputs": [
    {
     "name": "stderr",
     "output_type": "stream",
     "text": [
      "Building prefix dict from the default dictionary ...\n",
      "Dumping model to file cache C:\\Users\\樱空释\\AppData\\Local\\Temp\\jieba.cache\n",
      "Loading model cost 0.830 seconds.\n",
      "Prefix dict has been built succesfully.\n"
     ]
    }
   ],
   "source": [
    "x = cut('我今天心情好好啊，想吃冰激凌，想打篮球')"
   ]
  },
  {
   "cell_type": "code",
   "execution_count": 71,
   "metadata": {},
   "outputs": [
    {
     "data": {
      "text/plain": [
       "['我', '今天', '心情', '好好', '啊', '，', '想', '吃', '冰激凌', '，', '想', '打篮球']"
      ]
     },
     "execution_count": 71,
     "metadata": {},
     "output_type": "execute_result"
    }
   ],
   "source": [
    "x"
   ]
  },
  {
   "cell_type": "code",
   "execution_count": 72,
   "metadata": {},
   "outputs": [
    {
     "name": "stdout",
     "output_type": "stream",
     "text": [
      "0\n",
      "100\n",
      "200\n",
      "300\n",
      "400\n",
      "500\n",
      "600\n",
      "700\n",
      "800\n",
      "900\n",
      "1000\n",
      "1100\n",
      "1200\n",
      "1300\n",
      "1400\n",
      "1500\n",
      "1600\n",
      "1700\n",
      "1800\n",
      "1900\n",
      "2000\n",
      "2100\n",
      "2200\n",
      "2300\n",
      "2400\n",
      "2500\n",
      "2600\n",
      "2700\n",
      "2800\n",
      "2900\n",
      "3000\n",
      "3100\n",
      "3200\n",
      "3300\n",
      "3400\n",
      "3500\n",
      "3600\n",
      "3700\n",
      "3800\n",
      "3900\n",
      "4000\n",
      "4100\n",
      "4200\n",
      "4300\n",
      "4400\n",
      "4500\n",
      "4600\n",
      "4700\n",
      "4800\n",
      "4900\n",
      "5000\n",
      "5100\n",
      "5200\n",
      "5300\n",
      "5400\n",
      "5500\n",
      "5600\n",
      "5700\n",
      "5800\n",
      "5900\n",
      "6000\n",
      "6100\n",
      "6200\n",
      "6300\n",
      "6400\n",
      "6500\n",
      "6600\n",
      "6700\n",
      "6800\n",
      "6900\n",
      "7000\n",
      "7100\n",
      "7200\n",
      "7300\n",
      "7400\n",
      "7500\n",
      "7600\n",
      "7700\n",
      "7800\n",
      "7900\n",
      "8000\n",
      "8100\n",
      "8200\n",
      "8300\n",
      "8400\n",
      "8500\n",
      "8600\n",
      "8700\n",
      "8800\n",
      "8900\n",
      "9000\n",
      "9100\n",
      "9200\n",
      "9300\n",
      "9400\n",
      "9500\n",
      "9600\n",
      "9700\n",
      "9800\n",
      "9900\n",
      "10000\n",
      "10100\n",
      "10200\n",
      "10300\n",
      "10400\n",
      "10500\n",
      "10600\n",
      "10700\n",
      "10800\n",
      "10900\n",
      "11000\n",
      "11100\n",
      "11200\n",
      "11300\n",
      "11400\n",
      "11500\n",
      "11600\n",
      "11700\n",
      "11800\n",
      "11900\n",
      "12000\n",
      "12100\n",
      "12200\n",
      "12300\n",
      "12400\n",
      "12500\n",
      "12600\n",
      "12700\n",
      "12800\n",
      "12900\n",
      "13000\n",
      "13100\n",
      "13200\n",
      "13300\n",
      "13400\n",
      "13500\n",
      "13600\n",
      "13700\n",
      "13800\n",
      "13900\n",
      "14000\n",
      "14100\n",
      "14200\n",
      "14300\n",
      "14400\n",
      "14500\n",
      "14600\n",
      "14700\n",
      "14800\n",
      "14900\n",
      "15000\n",
      "15100\n",
      "15200\n",
      "15300\n",
      "15400\n",
      "15500\n",
      "15600\n",
      "15700\n",
      "15800\n",
      "15900\n",
      "16000\n",
      "16100\n",
      "16200\n",
      "16300\n",
      "16400\n",
      "16500\n",
      "16600\n",
      "16700\n",
      "16800\n",
      "16900\n",
      "17000\n",
      "17100\n",
      "17200\n",
      "17300\n",
      "17400\n",
      "17500\n",
      "17600\n",
      "17700\n",
      "17800\n",
      "17900\n",
      "18000\n",
      "18100\n",
      "18200\n",
      "18300\n",
      "18400\n",
      "18500\n",
      "18600\n",
      "18700\n",
      "18800\n",
      "18900\n",
      "19000\n",
      "19100\n",
      "19200\n",
      "19300\n",
      "19400\n",
      "19500\n",
      "19600\n",
      "19700\n",
      "19800\n",
      "19900\n",
      "20000\n"
     ]
    }
   ],
   "source": [
    "for i, line in enumerate(open('article_lesson01.txt')):\n",
    "    if i % 100 == 0:\n",
    "        print(i)\n",
    "    if i > 20000:\n",
    "        break\n",
    "    TOKEN += cut(line)"
   ]
  },
  {
   "cell_type": "code",
   "execution_count": 73,
   "metadata": {},
   "outputs": [
    {
     "data": {
      "text/plain": [
       "['此外',\n",
       " '自',\n",
       " '本周',\n",
       " '6',\n",
       " '月',\n",
       " '12',\n",
       " '日起',\n",
       " '除',\n",
       " '小米',\n",
       " '手机',\n",
       " '6',\n",
       " '等',\n",
       " '15',\n",
       " '款',\n",
       " '机型',\n",
       " '外',\n",
       " '其余',\n",
       " '机型',\n",
       " '已',\n",
       " '暂停',\n",
       " '更新',\n",
       " '发布',\n",
       " '含',\n",
       " '开发',\n",
       " '版',\n",
       " '体验版',\n",
       " '内测',\n",
       " '稳定版',\n",
       " '暂不受',\n",
       " '影响',\n",
       " '以',\n",
       " '确保',\n",
       " '工程师',\n",
       " '可以',\n",
       " '集中',\n",
       " '全部',\n",
       " '精力',\n",
       " '进行',\n",
       " '系统优化',\n",
       " '工作',\n",
       " '有人',\n",
       " '猜测',\n",
       " '这',\n",
       " '也',\n",
       " '是',\n",
       " '将',\n",
       " '精力',\n",
       " '主要',\n",
       " '用到',\n",
       " 'MIUI9',\n",
       " '的',\n",
       " '研发',\n",
       " '之中',\n",
       " 'MIUI8',\n",
       " '去年',\n",
       " '5',\n",
       " '月',\n",
       " '发布',\n",
       " '距今已有',\n",
       " '一年',\n",
       " '有余',\n",
       " '也',\n",
       " '是',\n",
       " '时候',\n",
       " '更新换代',\n",
       " '了',\n",
       " '当然',\n",
       " '关于',\n",
       " 'MIUI9',\n",
       " '的',\n",
       " '确切',\n",
       " '信息',\n",
       " '我们',\n",
       " '还是',\n",
       " '等待',\n",
       " '官方消息',\n",
       " '\\n',\n",
       " '骁龙',\n",
       " '835',\n",
       " '作为',\n",
       " '唯一',\n",
       " '通过',\n",
       " 'Windows10',\n",
       " '桌面',\n",
       " '平台',\n",
       " '认证',\n",
       " '的',\n",
       " 'ARM',\n",
       " '处理器',\n",
       " '高通',\n",
       " '强调',\n",
       " '不会',\n",
       " '因为',\n",
       " '只',\n",
       " '考虑',\n",
       " '性能',\n",
       " '而',\n",
       " '去',\n",
       " '屏蔽掉',\n",
       " '小',\n",
       " '核心',\n",
       " '相反',\n",
       " '他们',\n",
       " '正',\n",
       " '联手',\n",
       " '微软',\n",
       " '找到',\n",
       " '一种',\n",
       " '适合',\n",
       " '桌面',\n",
       " '平台',\n",
       " '的',\n",
       " '兼顾',\n",
       " '性能',\n",
       " '和',\n",
       " '功耗',\n",
       " '的',\n",
       " '完美',\n",
       " '方案',\n",
       " '报道',\n",
       " '称',\n",
       " '微软',\n",
       " '已经',\n",
       " '拿到',\n",
       " '了',\n",
       " '一些',\n",
       " '新',\n",
       " '的',\n",
       " '源码',\n",
       " '以便',\n",
       " 'Windows10',\n",
       " '更好',\n",
       " '地',\n",
       " '理解',\n",
       " 'biglittle',\n",
       " '架构',\n",
       " '资料',\n",
       " '显示',\n",
       " '骁龙',\n",
       " '835',\n",
       " '作为',\n",
       " '一款',\n",
       " '集成',\n",
       " '了',\n",
       " 'CPUGPU',\n",
       " '基带',\n",
       " '蓝牙',\n",
       " 'WiFi',\n",
       " '的',\n",
       " 'SoC',\n",
       " '比',\n",
       " '传统',\n",
       " '的',\n",
       " 'Wintel',\n",
       " '方案',\n",
       " '可以',\n",
       " '节省',\n",
       " '至少',\n",
       " '30',\n",
       " '的',\n",
       " 'PCB',\n",
       " '空间',\n",
       " '按计划',\n",
       " '今年',\n",
       " 'Q4',\n",
       " '华硕',\n",
       " '惠普',\n",
       " '联想',\n",
       " '将',\n",
       " '首发',\n",
       " '骁龙',\n",
       " '835Win10',\n",
       " '电脑',\n",
       " '预计',\n",
       " '均',\n",
       " '是',\n",
       " '二合一',\n",
       " '形态',\n",
       " '的',\n",
       " '产品',\n",
       " '当然',\n",
       " '高通',\n",
       " '骁龙',\n",
       " '只是',\n",
       " '个',\n",
       " '开始',\n",
       " '未来',\n",
       " '也许',\n",
       " '还',\n",
       " '能',\n",
       " '见到',\n",
       " '三星',\n",
       " 'Exynos',\n",
       " '联发科',\n",
       " '华为',\n",
       " '麒麟',\n",
       " '小米',\n",
       " '澎湃',\n",
       " '等',\n",
       " '进入',\n",
       " 'Windows10',\n",
       " '桌面',\n",
       " '平台',\n",
       " '\\n',\n",
       " '此前',\n",
       " '的',\n",
       " '一加',\n",
       " '3T',\n",
       " '搭载',\n",
       " '的',\n",
       " '是',\n",
       " '3400mAh',\n",
       " '电池',\n",
       " 'DashCharge',\n",
       " '快充',\n",
       " '规格',\n",
       " '为',\n",
       " '5V4A',\n",
       " '至于',\n",
       " '电池',\n",
       " '缩水',\n",
       " '可能',\n",
       " '与',\n",
       " '刘作',\n",
       " '虎',\n",
       " '所说',\n",
       " '一加',\n",
       " '手机',\n",
       " '5',\n",
       " '要',\n",
       " '做',\n",
       " '市面',\n",
       " '最',\n",
       " '轻薄',\n",
       " '大屏',\n",
       " '旗舰',\n",
       " '的',\n",
       " '设定',\n",
       " '有关',\n",
       " '按照',\n",
       " '目前',\n",
       " '掌握',\n",
       " '的',\n",
       " '资料',\n",
       " '一加',\n",
       " '手机',\n",
       " '5',\n",
       " '拥有',\n",
       " '55',\n",
       " '寸',\n",
       " '1080P',\n",
       " '三星',\n",
       " 'AMOLED',\n",
       " '显示屏',\n",
       " '6G8GBRAM64GB128GBROM',\n",
       " '双',\n",
       " '1600',\n",
       " '万',\n",
       " '摄像头',\n",
       " '备货',\n",
       " '量',\n",
       " '惊喜',\n",
       " '根据',\n",
       " '京东',\n",
       " '泄露',\n",
       " '的',\n",
       " '信息',\n",
       " '一加',\n",
       " '5',\n",
       " '起',\n",
       " '售价',\n",
       " '是',\n",
       " 'xx99',\n",
       " '元',\n",
       " '应该',\n",
       " '是',\n",
       " '在',\n",
       " '279928992999',\n",
       " '中',\n",
       " '的',\n",
       " '某个',\n",
       " '\\n',\n",
       " '这是',\n",
       " '6',\n",
       " '月',\n",
       " '18',\n",
       " '日',\n",
       " '在',\n",
       " '葡萄牙',\n",
       " '中部',\n",
       " '大',\n",
       " '佩德罗',\n",
       " '冈',\n",
       " '地区',\n",
       " '拍摄',\n",
       " '的',\n",
       " '被',\n",
       " '森林',\n",
       " '大火',\n",
       " '烧毁',\n",
       " '的',\n",
       " '汽车',\n",
       " '新华社',\n",
       " '记者',\n",
       " '张立',\n",
       " '云摄',\n",
       " '\\n',\n",
       " '原',\n",
       " '标题',\n",
       " '44',\n",
       " '岁',\n",
       " '女子',\n",
       " '跑',\n",
       " '深圳',\n",
       " '约会',\n",
       " '网友',\n",
       " '被',\n",
       " '拒',\n",
       " '暴雨',\n",
       " '中',\n",
       " '裸身',\n",
       " '奔走',\n",
       " '深圳',\n",
       " '交警',\n",
       " '微博称',\n",
       " '昨日',\n",
       " '清晨',\n",
       " '交警',\n",
       " '发现',\n",
       " '有',\n",
       " '一',\n",
       " '女子',\n",
       " '赤裸',\n",
       " '上身',\n",
       " '行走',\n",
       " '在',\n",
       " '南坪',\n",
       " '快速',\n",
       " '上',\n",
       " '期间',\n",
       " '还',\n",
       " '起',\n",
       " '了',\n",
       " '轻生',\n",
       " '年头',\n",
       " '一辅警',\n",
       " '发现',\n",
       " '后',\n",
       " '赶紧',\n",
       " '为',\n",
       " '其',\n",
       " '披上',\n",
       " '黄衣',\n",
       " '并',\n",
       " '一路',\n",
       " '劝说',\n",
       " '她',\n",
       " '那么',\n",
       " '事发',\n",
       " '时',\n",
       " '到底',\n",
       " '都',\n",
       " '发生',\n",
       " '了',\n",
       " '些',\n",
       " '什么',\n",
       " '呢',\n",
       " '南',\n",
       " '都',\n",
       " '记者',\n",
       " '带',\n",
       " '您',\n",
       " '一起',\n",
       " '还原',\n",
       " '现场',\n",
       " '南',\n",
       " '都',\n",
       " '记者',\n",
       " '在',\n",
       " '龙岗',\n",
       " '大队',\n",
       " '坂田',\n",
       " '中队',\n",
       " '见到',\n",
       " '了',\n",
       " '辅警',\n",
       " '刘青',\n",
       " '发现',\n",
       " '女生',\n",
       " '的',\n",
       " '辅警',\n",
       " '一位',\n",
       " '外表',\n",
       " '高大',\n",
       " '帅气',\n",
       " '说话',\n",
       " '略带',\n",
       " '些',\n",
       " '腼腆',\n",
       " '的',\n",
       " '90',\n",
       " '后',\n",
       " '青年',\n",
       " '刘青',\n",
       " '介绍',\n",
       " '6',\n",
       " '月',\n",
       " '16',\n",
       " '日',\n",
       " '早上',\n",
       " '7',\n",
       " '时',\n",
       " '36',\n",
       " '分',\n",
       " '他',\n",
       " '正在',\n",
       " '环城',\n",
       " '南路',\n",
       " '附近',\n",
       " '值勤',\n",
       " '接到',\n",
       " '中队',\n",
       " '关于',\n",
       " '一位',\n",
       " '女子',\n",
       " '裸身',\n",
       " '进入',\n",
       " '机动车',\n",
       " '可能',\n",
       " '有',\n",
       " '危险',\n",
       " '的',\n",
       " '警情',\n",
       " '随后',\n",
       " '骑着',\n",
       " '小',\n",
       " '铁骑',\n",
       " '开始',\n",
       " '沿路',\n",
       " '寻找',\n",
       " '大概',\n",
       " '花',\n",
       " '了',\n",
       " '十多分钟',\n",
       " '在',\n",
       " '南坪',\n",
       " '大道',\n",
       " '坂田',\n",
       " '出口',\n",
       " '往',\n",
       " '龙岗',\n",
       " '方向',\n",
       " '的',\n",
       " '逆行',\n",
       " '辅道',\n",
       " '上',\n",
       " '发现',\n",
       " '该',\n",
       " '女子',\n",
       " '女子',\n",
       " '身上',\n",
       " '一丝不挂',\n",
       " '地逆',\n",
       " '车流',\n",
       " '而',\n",
       " '行时',\n",
       " '走时',\n",
       " '停时',\n",
       " '坐时',\n",
       " '躺',\n",
       " '险象环生',\n",
       " '刘青停',\n",
       " '好',\n",
       " '小',\n",
       " '铁骑',\n",
       " '和',\n",
       " '另外',\n",
       " '一名',\n",
       " '巡防',\n",
       " '员',\n",
       " '追',\n",
       " '了',\n",
       " '上去',\n",
       " '发现',\n",
       " '女子',\n",
       " '的',\n",
       " '情绪',\n",
       " '很',\n",
       " '低落',\n",
       " '话',\n",
       " '不',\n",
       " '多',\n",
       " '刘青',\n",
       " '尝试',\n",
       " '和',\n",
       " '女子',\n",
       " '交流',\n",
       " '劝说',\n",
       " '女子',\n",
       " '离开',\n",
       " '可',\n",
       " '女子',\n",
       " '并',\n",
       " '不',\n",
       " '愿意',\n",
       " '接受',\n",
       " '继续',\n",
       " '缓慢',\n",
       " '地往',\n",
       " '南坪',\n",
       " '快速路',\n",
       " '的',\n",
       " '主干道',\n",
       " '上',\n",
       " '走',\n",
       " '去',\n",
       " '此时',\n",
       " '路边',\n",
       " '上',\n",
       " '已经',\n",
       " '聚集',\n",
       " '了',\n",
       " '很',\n",
       " '市民',\n",
       " '围观',\n",
       " '为了',\n",
       " '不',\n",
       " '刺激',\n",
       " '女子',\n",
       " '的',\n",
       " '情绪',\n",
       " '刘青',\n",
       " '和',\n",
       " '巡防',\n",
       " '员',\n",
       " '一边',\n",
       " '盯',\n",
       " '着',\n",
       " '女子',\n",
       " '一边',\n",
       " '驱赶',\n",
       " '着',\n",
       " '围观',\n",
       " '的',\n",
       " '群众',\n",
       " '现场',\n",
       " '还原',\n",
       " '从',\n",
       " '警方',\n",
       " '提供',\n",
       " '的',\n",
       " '一份',\n",
       " '视频',\n",
       " '了解',\n",
       " '到',\n",
       " '16',\n",
       " '日',\n",
       " '早上',\n",
       " '7',\n",
       " '时',\n",
       " '25',\n",
       " '分',\n",
       " '女子',\n",
       " '出现',\n",
       " '在',\n",
       " '坂雪岗',\n",
       " '大道',\n",
       " '与',\n",
       " '环城',\n",
       " '南路',\n",
       " '的',\n",
       " '监控',\n",
       " '视频',\n",
       " '中',\n",
       " '此时',\n",
       " '女子',\n",
       " '还',\n",
       " '穿着',\n",
       " '白色',\n",
       " '的',\n",
       " '内裤',\n",
       " '正',\n",
       " '沿着',\n",
       " '坂雪岗',\n",
       " '大道',\n",
       " '往',\n",
       " '南坪',\n",
       " '快速',\n",
       " '的',\n",
       " '方向',\n",
       " '缓慢',\n",
       " '地',\n",
       " '走',\n",
       " '着',\n",
       " '当时',\n",
       " '正值',\n",
       " '上班',\n",
       " '高峰期',\n",
       " '十字路口',\n",
       " '的',\n",
       " '车流',\n",
       " '已经',\n",
       " '排起',\n",
       " '了',\n",
       " '长队',\n",
       " '当',\n",
       " '女子',\n",
       " '出现',\n",
       " '时',\n",
       " '路上',\n",
       " '的',\n",
       " '市民',\n",
       " '纷纷',\n",
       " '驻足',\n",
       " '观望',\n",
       " '不少',\n",
       " '车辆',\n",
       " '也',\n",
       " '放慢',\n",
       " '了',\n",
       " '速度',\n",
       " '但',\n",
       " '女子',\n",
       " '并',\n",
       " '不',\n",
       " '为',\n",
       " '市民',\n",
       " '观望',\n",
       " '停下',\n",
       " '脚步',\n",
       " '依然',\n",
       " '缓慢',\n",
       " '走',\n",
       " '着',\n",
       " '当',\n",
       " '女子',\n",
       " '行进',\n",
       " '到',\n",
       " '十字路口',\n",
       " '中间',\n",
       " '时',\n",
       " '一辆',\n",
       " '大',\n",
       " '货车',\n",
       " '挡住',\n",
       " '了',\n",
       " '镜头',\n",
       " '但是',\n",
       " '当',\n",
       " '女子',\n",
       " '再次出现',\n",
       " '镜头',\n",
       " '时',\n",
       " '可以',\n",
       " '发现',\n",
       " '女子',\n",
       " '已经',\n",
       " '没',\n",
       " '穿',\n",
       " '内裤',\n",
       " '了',\n",
       " '全身',\n",
       " '裸露',\n",
       " '继续',\n",
       " '朝着',\n",
       " '南坪',\n",
       " '快速',\n",
       " '方向',\n",
       " '走',\n",
       " '去',\n",
       " '记者',\n",
       " '发现',\n",
       " '视频',\n",
       " '中',\n",
       " '女子',\n",
       " '周围',\n",
       " '并',\n",
       " '没有',\n",
       " '人',\n",
       " '尾随',\n",
       " '或者',\n",
       " '上前',\n",
       " '劝止',\n",
       " '的',\n",
       " '市民',\n",
       " '一',\n",
       " '大清早',\n",
       " '路上',\n",
       " '看到',\n",
       " '这样',\n",
       " '的',\n",
       " '情况',\n",
       " '恐怕',\n",
       " '大家',\n",
       " '都',\n",
       " '没',\n",
       " '办法',\n",
       " '淡定',\n",
       " '面对',\n",
       " '这一',\n",
       " '情况',\n",
       " '刘青',\n",
       " '表示',\n",
       " '一',\n",
       " '开始',\n",
       " '根本',\n",
       " '不敢',\n",
       " '看',\n",
       " '她',\n",
       " '心里',\n",
       " '挺',\n",
       " '别扭',\n",
       " '感觉',\n",
       " '很',\n",
       " '尴尬',\n",
       " '但',\n",
       " '当',\n",
       " '刘青',\n",
       " '跟随',\n",
       " '女子',\n",
       " '上',\n",
       " '了',\n",
       " '南坪',\n",
       " '快速路',\n",
       " '主干道',\n",
       " '时',\n",
       " '女子',\n",
       " '作出',\n",
       " '了',\n",
       " '让',\n",
       " '人',\n",
       " '意想不到',\n",
       " '的',\n",
       " '举动',\n",
       " '她',\n",
       " '突然',\n",
       " '靠近',\n",
       " '护栏',\n",
       " '要',\n",
       " '从',\n",
       " '上面',\n",
       " '跳下去',\n",
       " '刘青',\n",
       " '赶忙',\n",
       " '冲上去',\n",
       " '拉住',\n",
       " '了',\n",
       " '女子',\n",
       " '的',\n",
       " '手',\n",
       " '将',\n",
       " '其',\n",
       " '控制',\n",
       " '住',\n",
       " '并',\n",
       " '远离',\n",
       " '护栏',\n",
       " '碍于',\n",
       " '女子',\n",
       " '没有',\n",
       " '穿衣服',\n",
       " '刘青递',\n",
       " '上',\n",
       " '衣服',\n",
       " '女子',\n",
       " '没',\n",
       " '接受',\n",
       " '还',\n",
       " '把',\n",
       " '衣服',\n",
       " '扔',\n",
       " '到',\n",
       " '排水沟',\n",
       " '里',\n",
       " '继续',\n",
       " '往前走',\n",
       " '没',\n",
       " '办法',\n",
       " '刘青',\n",
       " '只能',\n",
       " '紧紧',\n",
       " '拉',\n",
       " '着',\n",
       " '她',\n",
       " '的',\n",
       " '一只',\n",
       " '手',\n",
       " '跟',\n",
       " '在',\n",
       " '后面',\n",
       " '刘青',\n",
       " '一路上',\n",
       " '耐心',\n",
       " '地',\n",
       " '开导',\n",
       " '安慰',\n",
       " '她',\n",
       " '但',\n",
       " '只',\n",
       " '听到',\n",
       " '她',\n",
       " '不断',\n",
       " '地',\n",
       " '重复',\n",
       " '着',\n",
       " '一句',\n",
       " '话',\n",
       " '要是',\n",
       " '你',\n",
       " '也',\n",
       " '遭遇',\n",
       " '我',\n",
       " '的',\n",
       " '事',\n",
       " '你',\n",
       " '也',\n",
       " '会',\n",
       " '这样',\n",
       " '的',\n",
       " '期间',\n",
       " '她',\n",
       " '还',\n",
       " '不时',\n",
       " '试图',\n",
       " '挣脱',\n",
       " '刘青',\n",
       " '的',\n",
       " '手要',\n",
       " '冲向',\n",
       " '护栏',\n",
       " '往下跳',\n",
       " '就',\n",
       " '这样',\n",
       " '我',\n",
       " '被',\n",
       " '牵',\n",
       " '着',\n",
       " '走',\n",
       " '了',\n",
       " '大概',\n",
       " '十多分钟',\n",
       " '天',\n",
       " '突然',\n",
       " '下起',\n",
       " '了',\n",
       " '大暴雨',\n",
       " '雨大',\n",
       " '的',\n",
       " '连',\n",
       " '眼睛',\n",
       " '都',\n",
       " '睁不开',\n",
       " '刘青',\n",
       " '继续',\n",
       " '说',\n",
       " '着',\n",
       " '瞬间',\n",
       " '他们',\n",
       " '就',\n",
       " '被',\n",
       " '雨',\n",
       " '透',\n",
       " '了',\n",
       " '但',\n",
       " '女子',\n",
       " '依然',\n",
       " '不',\n",
       " '愿意',\n",
       " '接受',\n",
       " '刘青',\n",
       " '的',\n",
       " '帮助',\n",
       " '就',\n",
       " '继续',\n",
       " '冒',\n",
       " '着',\n",
       " '大雨',\n",
       " '往前走',\n",
       " '大概',\n",
       " '走',\n",
       " '了',\n",
       " '有',\n",
       " '四十分钟',\n",
       " '吧',\n",
       " '女子',\n",
       " '突然',\n",
       " '停下',\n",
       " '来说',\n",
       " '我',\n",
       " '想',\n",
       " '回家',\n",
       " '了',\n",
       " '然后',\n",
       " '女子',\n",
       " '也',\n",
       " '接受',\n",
       " '了',\n",
       " '刘青',\n",
       " '递过来',\n",
       " '的',\n",
       " '小',\n",
       " '黄衣',\n",
       " '就',\n",
       " '出现',\n",
       " '了',\n",
       " '深圳',\n",
       " '微博上',\n",
       " '的',\n",
       " '照片',\n",
       " '女子',\n",
       " '披着',\n",
       " '小',\n",
       " '黄衣',\n",
       " '刘青',\n",
       " '小心翼翼',\n",
       " '地',\n",
       " '在',\n",
       " '旁边',\n",
       " '走',\n",
       " '着',\n",
       " '的',\n",
       " '场景',\n",
       " '从',\n",
       " '南平',\n",
       " '快速',\n",
       " '下来',\n",
       " '后',\n",
       " '刘青',\n",
       " '和',\n",
       " '巡防',\n",
       " '员',\n",
       " '将',\n",
       " '女子',\n",
       " '带到',\n",
       " '了',\n",
       " '附近',\n",
       " '的',\n",
       " '坂田',\n",
       " '派出所',\n",
       " '那',\n",
       " '姑娘',\n",
       " '到底',\n",
       " '是',\n",
       " '遭遇',\n",
       " '了',\n",
       " '什么样',\n",
       " '的',\n",
       " '事情',\n",
       " '才',\n",
       " '会',\n",
       " '说',\n",
       " '要是',\n",
       " '你',\n",
       " '也',\n",
       " '遭遇',\n",
       " '我',\n",
       " '的',\n",
       " '事',\n",
       " '你',\n",
       " '也',\n",
       " '会',\n",
       " '这样',\n",
       " '据',\n",
       " '警方',\n",
       " '透露',\n",
       " '该',\n",
       " '女子',\n",
       " '姓',\n",
       " '陈系',\n",
       " '湖北',\n",
       " '人',\n",
       " '今年',\n",
       " '44',\n",
       " '岁',\n",
       " '据',\n",
       " '家属',\n",
       " '反映',\n",
       " '其有',\n",
       " '精神病',\n",
       " '史',\n",
       " '三天',\n",
       " '前',\n",
       " '陈某',\n",
       " '从',\n",
       " '老家',\n",
       " '来',\n",
       " '深圳',\n",
       " '约会',\n",
       " '网友',\n",
       " '但',\n",
       " '约会',\n",
       " '受挫',\n",
       " '导致',\n",
       " '情绪',\n",
       " '异常',\n",
       " '女子',\n",
       " '遂',\n",
       " '产生',\n",
       " '轻生',\n",
       " '念头',\n",
       " ...]"
      ]
     },
     "execution_count": 73,
     "metadata": {},
     "output_type": "execute_result"
    }
   ],
   "source": [
    "TOKEN"
   ]
  },
  {
   "cell_type": "code",
   "execution_count": 74,
   "metadata": {},
   "outputs": [],
   "source": [
    "words_count = Counter(TOKEN)"
   ]
  },
  {
   "cell_type": "code",
   "execution_count": 75,
   "metadata": {},
   "outputs": [
    {
     "data": {
      "text/plain": [
       "[('的', 246239),\n",
       " ('在', 72534),\n",
       " ('了', 46735),\n",
       " ('n', 43990),\n",
       " ('和', 43014),\n",
       " ('是', 39085),\n",
       " ('月', 38415),\n",
       " ('日', 30119),\n",
       " ('年', 28051),\n",
       " ('也', 20004),\n",
       " ('\\n', 20001),\n",
       " ('将', 19690),\n",
       " ('为', 19681),\n",
       " ('等', 19509),\n",
       " ('有', 18748),\n",
       " ('中', 18223),\n",
       " ('与', 18188),\n",
       " ('对', 17961),\n",
       " ('中国', 17369),\n",
       " ('新华社', 16255),\n",
       " ('上', 14566),\n",
       " ('他', 12888),\n",
       " ('6', 12775),\n",
       " ('不', 12589),\n",
       " ('发展', 12058),\n",
       " ('记者', 12032),\n",
       " ('１', 11700),\n",
       " ('都', 11626),\n",
       " ('4', 11570),\n",
       " ('０', 11502),\n",
       " ('到', 11034),\n",
       " ('就', 10899),\n",
       " ('说', 10766),\n",
       " ('企业', 10528),\n",
       " ('外代', 10510),\n",
       " ('人', 10381),\n",
       " ('从', 9976),\n",
       " ('被', 9891),\n",
       " ('2017', 9861),\n",
       " ('并', 9826),\n",
       " ('但', 9782),\n",
       " ('这', 9720),\n",
       " ('后', 9565),\n",
       " ('市场', 9498),\n",
       " ('以', 9283),\n",
       " ('２', 9182),\n",
       " ('一个', 8744),\n",
       " ('3', 8650),\n",
       " ('新', 8532),\n",
       " ('要', 8423),\n",
       " ('表示', 8298),\n",
       " ('公司', 8227),\n",
       " ('个', 8149),\n",
       " ('还', 8115),\n",
       " ('我', 8104),\n",
       " ('二线', 8020),\n",
       " ('5', 7936),\n",
       " ('进行', 7846),\n",
       " ('我们', 7679),\n",
       " ('会', 7653),\n",
       " ('工作', 7445),\n",
       " ('而', 7438),\n",
       " ('1', 7385),\n",
       " ('美国', 7259),\n",
       " ('国家', 6681),\n",
       " ('经济', 6447),\n",
       " ('2', 6413),\n",
       " ('国际', 6326),\n",
       " ('大', 6285),\n",
       " ('时', 6256),\n",
       " ('让', 6224),\n",
       " ('没有', 6179),\n",
       " ('更', 6178),\n",
       " ('问题', 6157),\n",
       " ('通过', 6152),\n",
       " ('３', 6123),\n",
       " ('下', 6121),\n",
       " ('建设', 6118),\n",
       " ('照片', 6101),\n",
       " ('目前', 6065),\n",
       " ('已', 6024),\n",
       " ('项目', 5979),\n",
       " ('多', 5944),\n",
       " ('可以', 5779),\n",
       " ('已经', 5345),\n",
       " ('北京', 5309),\n",
       " ('创新', 5304),\n",
       " ('其', 5225),\n",
       " ('４', 5224),\n",
       " ('城市', 5171),\n",
       " ('自己', 5136),\n",
       " ('服务', 5069),\n",
       " ('５', 5059),\n",
       " ('及', 5045),\n",
       " ('向', 4977),\n",
       " ('成为', 4965),\n",
       " ('投资', 4961),\n",
       " ('于', 4885),\n",
       " ('他们', 4825),\n",
       " ('相关', 4729)]"
      ]
     },
     "execution_count": 75,
     "metadata": {},
     "output_type": "execute_result"
    }
   ],
   "source": [
    "words_count.most_common(100)"
   ]
  },
  {
   "cell_type": "code",
   "execution_count": 77,
   "metadata": {},
   "outputs": [],
   "source": [
    "frequiences = [f for w,f in words_count.most_common(100)]"
   ]
  },
  {
   "cell_type": "code",
   "execution_count": 78,
   "metadata": {},
   "outputs": [
    {
     "data": {
      "text/plain": [
       "[246239,\n",
       " 72534,\n",
       " 46735,\n",
       " 43990,\n",
       " 43014,\n",
       " 39085,\n",
       " 38415,\n",
       " 30119,\n",
       " 28051,\n",
       " 20004,\n",
       " 20001,\n",
       " 19690,\n",
       " 19681,\n",
       " 19509,\n",
       " 18748,\n",
       " 18223,\n",
       " 18188,\n",
       " 17961,\n",
       " 17369,\n",
       " 16255,\n",
       " 14566,\n",
       " 12888,\n",
       " 12775,\n",
       " 12589,\n",
       " 12058,\n",
       " 12032,\n",
       " 11700,\n",
       " 11626,\n",
       " 11570,\n",
       " 11502,\n",
       " 11034,\n",
       " 10899,\n",
       " 10766,\n",
       " 10528,\n",
       " 10510,\n",
       " 10381,\n",
       " 9976,\n",
       " 9891,\n",
       " 9861,\n",
       " 9826,\n",
       " 9782,\n",
       " 9720,\n",
       " 9565,\n",
       " 9498,\n",
       " 9283,\n",
       " 9182,\n",
       " 8744,\n",
       " 8650,\n",
       " 8532,\n",
       " 8423,\n",
       " 8298,\n",
       " 8227,\n",
       " 8149,\n",
       " 8115,\n",
       " 8104,\n",
       " 8020,\n",
       " 7936,\n",
       " 7846,\n",
       " 7679,\n",
       " 7653,\n",
       " 7445,\n",
       " 7438,\n",
       " 7385,\n",
       " 7259,\n",
       " 6681,\n",
       " 6447,\n",
       " 6413,\n",
       " 6326,\n",
       " 6285,\n",
       " 6256,\n",
       " 6224,\n",
       " 6179,\n",
       " 6178,\n",
       " 6157,\n",
       " 6152,\n",
       " 6123,\n",
       " 6121,\n",
       " 6118,\n",
       " 6101,\n",
       " 6065,\n",
       " 6024,\n",
       " 5979,\n",
       " 5944,\n",
       " 5779,\n",
       " 5345,\n",
       " 5309,\n",
       " 5304,\n",
       " 5225,\n",
       " 5224,\n",
       " 5171,\n",
       " 5136,\n",
       " 5069,\n",
       " 5059,\n",
       " 5045,\n",
       " 4977,\n",
       " 4965,\n",
       " 4961,\n",
       " 4885,\n",
       " 4825,\n",
       " 4729]"
      ]
     },
     "execution_count": 78,
     "metadata": {},
     "output_type": "execute_result"
    }
   ],
   "source": [
    "frequiences"
   ]
  },
  {
   "cell_type": "code",
   "execution_count": 79,
   "metadata": {},
   "outputs": [],
   "source": [
    "%matplotlib inline"
   ]
  },
  {
   "cell_type": "code",
   "execution_count": 81,
   "metadata": {},
   "outputs": [],
   "source": [
    "import matplotlib.pyplot as plt"
   ]
  },
  {
   "cell_type": "code",
   "execution_count": 84,
   "metadata": {},
   "outputs": [],
   "source": [
    "x = [i for i in range(100)]"
   ]
  },
  {
   "cell_type": "code",
   "execution_count": 85,
   "metadata": {},
   "outputs": [
    {
     "data": {
      "text/plain": [
       "[<matplotlib.lines.Line2D at 0x1b0639d2780>]"
      ]
     },
     "execution_count": 85,
     "metadata": {},
     "output_type": "execute_result"
    },
    {
     "data": {
      "image/png": "[encoded data removed]",
      "text/plain": [
       "<Figure size 432x288 with 1 Axes>"
      ]
     },
     "metadata": {
      "needs_background": "light"
     },
     "output_type": "display_data"
    }
   ],
   "source": [
    "plt.plot(x,frequiences)"
   ]
  },
  {
   "cell_type": "code",
   "execution_count": 86,
   "metadata": {},
   "outputs": [],
   "source": [
    "import numpy as np"
   ]
  },
  {
   "cell_type": "code",
   "execution_count": 87,
   "metadata": {},
   "outputs": [
    {
     "data": {
      "text/plain": [
       "[<matplotlib.lines.Line2D at 0x1b067cf5a20>]"
      ]
     },
     "execution_count": 87,
     "metadata": {},
     "output_type": "execute_result"
    },
    {
     "data": {
      "image/png": "[encoded data removed]",
      "text/plain": [
       "<Figure size 432x288 with 1 Axes>"
      ]
     },
     "metadata": {
      "needs_background": "light"
     },
     "output_type": "display_data"
    }
   ],
   "source": [
    "plt.plot(x,np.log(frequiences))"
   ]
  },
  {
   "cell_type": "code",
   "execution_count": 90,
   "metadata": {},
   "outputs": [],
   "source": [
    "def prob_1(word):\n",
    "    return words_count[word]/len(TOKEN)"
   ]
  },
  {
   "cell_type": "markdown",
   "metadata": {},
   "source": [
    "单个单词出现的概率"
   ]
  },
  {
   "cell_type": "code",
   "execution_count": 91,
   "metadata": {},
   "outputs": [
    {
     "data": {
      "text/plain": [
       "9.30430934669978e-07"
      ]
     },
     "execution_count": 91,
     "metadata": {},
     "output_type": "execute_result"
    }
   ],
   "source": [
    "prob_1('真好')"
   ]
  },
  {
   "cell_type": "code",
   "execution_count": 92,
   "metadata": {},
   "outputs": [
    {
     "data": {
      "text/plain": [
       "7.443447477359824e-07"
      ]
     },
     "execution_count": 92,
     "metadata": {},
     "output_type": "execute_result"
    }
   ],
   "source": [
    "prob_1('真棒')"
   ]
  },
  {
   "cell_type": "code",
   "execution_count": 93,
   "metadata": {},
   "outputs": [
    {
     "data": {
      "text/plain": [
       "0.00018887747973800553"
      ]
     },
     "execution_count": 93,
     "metadata": {},
     "output_type": "execute_result"
    }
   ],
   "source": [
    "prob_1('今天')"
   ]
  },
  {
   "cell_type": "code",
   "execution_count": 94,
   "metadata": {},
   "outputs": [
    {
     "data": {
      "text/plain": [
       "['此外', '自', '本周', '6', '月', '12', '日起', '除', '小米', '手机']"
      ]
     },
     "execution_count": 94,
     "metadata": {},
     "output_type": "execute_result"
    }
   ],
   "source": [
    "TOKEN[:10]"
   ]
  },
  {
   "cell_type": "code",
   "execution_count": 99,
   "metadata": {},
   "outputs": [
    {
     "data": {
      "text/plain": [
       "5373854"
      ]
     },
     "execution_count": 99,
     "metadata": {},
     "output_type": "execute_result"
    }
   ],
   "source": [
    "len(TOKEN)"
   ]
  },
  {
   "cell_type": "code",
   "execution_count": 96,
   "metadata": {},
   "outputs": [],
   "source": [
    "TOKEN_2_Gram = [''.join(TOKEN[i:i+2]) for i in range(len(TOKEN[:-1]))]"
   ]
  },
  {
   "cell_type": "code",
   "execution_count": 97,
   "metadata": {},
   "outputs": [
    {
     "data": {
      "text/plain": [
       "['此外自', '自本周', '本周6', '6月', '月12', '12日起', '日起除', '除小米', '小米手机', '手机6']"
      ]
     },
     "execution_count": 97,
     "metadata": {},
     "output_type": "execute_result"
    }
   ],
   "source": [
    "TOKEN_2_Gram[:10]"
   ]
  },
  {
   "cell_type": "code",
   "execution_count": 98,
   "metadata": {},
   "outputs": [
    {
     "data": {
      "text/plain": [
       "5373853"
      ]
     },
     "execution_count": 98,
     "metadata": {},
     "output_type": "execute_result"
    }
   ],
   "source": [
    "len(TOKEN_2_Gram)"
   ]
  },
  {
   "cell_type": "code",
   "execution_count": 102,
   "metadata": {},
   "outputs": [],
   "source": [
    "word_count_2 = Counter(TOKEN_2_Gram)"
   ]
  },
  {
   "cell_type": "code",
   "execution_count": 119,
   "metadata": {},
   "outputs": [],
   "source": [
    "def prob_2(word1,word2):\n",
    "    if word1 + word2 in TOKEN_2_Gram:\n",
    "        return word_count_2[word1 + word2]/len(TOKEN_2_Gram)\n",
    "    else:\n",
    "        return 1 / len(TOKEN_2_Gram)"
   ]
  },
  {
   "cell_type": "markdown",
   "metadata": {},
   "source": [
    "定义Pr(wiwi+1),不存在wiwi+1则自己定义一个值"
   ]
  },
  {
   "cell_type": "code",
   "execution_count": 120,
   "metadata": {},
   "outputs": [
    {
     "data": {
      "text/plain": [
       "4.466069317489704e-05"
      ]
     },
     "execution_count": 120,
     "metadata": {},
     "output_type": "execute_result"
    }
   ],
   "source": [
    "prob_2('我们','在')"
   ]
  },
  {
   "cell_type": "code",
   "execution_count": 121,
   "metadata": {},
   "outputs": [
    {
     "data": {
      "text/plain": [
       "1.8608622156207102e-07"
      ]
     },
     "execution_count": 121,
     "metadata": {},
     "output_type": "execute_result"
    }
   ],
   "source": [
    "prob_2('吃','晚饭')"
   ]
  },
  {
   "cell_type": "code",
   "execution_count": 122,
   "metadata": {},
   "outputs": [
    {
     "data": {
      "text/plain": [
       "9.30431107810355e-07"
      ]
     },
     "execution_count": 122,
     "metadata": {},
     "output_type": "execute_result"
    }
   ],
   "source": [
    "prob_2('吃','早饭')"
   ]
  },
  {
   "cell_type": "code",
   "execution_count": 139,
   "metadata": {},
   "outputs": [],
   "source": [
    "def get_probablity(sentence):\n",
    "    words_list = cut(sentence)\n",
    "    pro_last = prob_1(words_list[-1])\n",
    "    sentence_pro = pro_last\n",
    "    for i, word in enumerate(words_list[:-1]):\n",
    "        next_word = words_list[i+1]\n",
    "        probablity = prob_2(word, next_word)\n",
    "        sentence_pro *= probablity\n",
    "    return sentence_pro"
   ]
  },
  {
   "cell_type": "markdown",
   "metadata": {},
   "source": [
    "请问这里的切词cut用的是结巴分吗，为什么键入jieba.cut(sentence)就运行不通，概率显示一直为0"
   ]
  },
  {
   "cell_type": "code",
   "execution_count": 140,
   "metadata": {},
   "outputs": [
    {
     "data": {
      "text/plain": [
       "8.217002318566421e-28"
      ]
     },
     "execution_count": 140,
     "metadata": {},
     "output_type": "execute_result"
    }
   ],
   "source": [
    "get_probablity('小明今天心情很好')"
   ]
  },
  {
   "cell_type": "code",
   "execution_count": 141,
   "metadata": {},
   "outputs": [
    {
     "data": {
      "text/plain": [
       "1.5334320395938863e-37"
      ]
     },
     "execution_count": 141,
     "metadata": {},
     "output_type": "execute_result"
    }
   ],
   "source": [
    "get_probablity('小明今天抽奖抽到一台手机')"
   ]
  },
  {
   "cell_type": "code",
   "execution_count": 142,
   "metadata": {},
   "outputs": [
    {
     "data": {
      "text/plain": [
       "1.6420884071909297e-15"
      ]
     },
     "execution_count": 142,
     "metadata": {},
     "output_type": "execute_result"
    }
   ],
   "source": [
    "get_probablity('出发去北京')"
   ]
  },
  {
   "cell_type": "code",
   "execution_count": 145,
   "metadata": {},
   "outputs": [
    {
     "name": "stdout",
     "output_type": "stream",
     "text": [
      "1.1392937349148771e-67\n",
      "sentence:这个好看的小小的小小的好看的女人看见一个女人 with Prb:1.1392937349148771e-67\n",
      "7.046185210371727e-50\n",
      "sentence:一个小猫听着一个蓝色的小猫 with Prb:7.046185210371727e-50\n",
      "9.450558684310006e-38\n",
      "sentence:一个桌子看着这个小小的篮球 with Prb:9.450558684310006e-38\n",
      "1.9793231838446022e-35\n",
      "sentence:一个篮球听着一个女人 with Prb:1.9793231838446022e-35\n",
      "4.4627340190997694e-33\n",
      "sentence:一个篮球看见一个小猫 with Prb:4.4627340190997694e-33\n",
      "1.0206603379054806e-35\n",
      "sentence:一个篮球听着这个篮球 with Prb:1.0206603379054806e-35\n",
      "5.578417523874712e-33\n",
      "sentence:一个女人看着一个小猫 with Prb:5.578417523874712e-33\n",
      "1.4871497010409062e-53\n",
      "sentence:一个好看的篮球坐在这个好看的篮球 with Prb:1.4871497010409062e-53\n",
      "4.0792471052826765e-85\n",
      "sentence:这个蓝色的好看的蓝色的桌子听着一个好看的小猫 with Prb:4.0792471052826765e-85\n",
      "1.5621831299509143e-46\n",
      "sentence:这个女人听着这个好看的篮球 with Prb:1.5621831299509143e-46\n"
     ]
    }
   ],
   "source": [
    "for sen in [generate(ex,'sentence') for i in range(10)]:\n",
    "    print(get_probablity(sen))\n",
    "    print('sentence:{} with Prb:{}'.format(sen, get_probablity(sen)))"
   ]
  },
  {
   "cell_type": "code",
   "execution_count": 146,
   "metadata": {},
   "outputs": [],
   "source": [
    "need_compared = [\n",
    "    \"今天晚上请你吃大餐，我们一起吃日料 明天晚上请你吃大餐，我们一起吃苹果\",\n",
    "    \"真事一只好看的小猫 真是一只好看的小猫\",\n",
    "    \"今晚我去吃火锅 今晚火锅去吃我\",\n",
    "    \"洋葱奶昔来一杯 养乐多绿来一杯\"\n",
    "]\n",
    "\n"
   ]
  },
  {
   "cell_type": "code",
   "execution_count": 147,
   "metadata": {},
   "outputs": [
    {
     "name": "stdout",
     "output_type": "stream",
     "text": [
      "明天晚上请你吃大餐，我们一起吃苹果 is more possible\n",
      "----今天晚上请你吃大餐，我们一起吃日料 with probablity 1.68108375483437e-70\n",
      "----明天晚上请你吃大餐，我们一起吃苹果 with probablity 7.732985272238102e-68\n",
      "真是一只好看的小猫 is more possible\n",
      "----真事一只好看的小猫 with probablity 2.6989732622150715e-39\n",
      "----真是一只好看的小猫 with probablity 1.4503885562074248e-32\n",
      "今晚火锅去吃我 is more possible\n",
      "----今晚我去吃火锅 with probablity 5.515877617250511e-25\n",
      "----今晚火锅去吃我 with probablity 6.509879368341215e-29\n",
      "洋葱奶昔来一杯 is more possible\n",
      "----洋葱奶昔来一杯 with probablity 3.8371322554786165e-26\n",
      "----养乐多绿来一杯 with probablity 2.0620184682500528e-19\n"
     ]
    }
   ],
   "source": [
    "for s in need_compared:\n",
    "    s1, s2 = s.split()\n",
    "    p1, p2 = get_probablity(s1), get_probablity(s2)\n",
    "    better = s1 if s1 > s2 else s2\n",
    "    print(better + ' is more possible')\n",
    "    print('-'*4 + '{} with probablity {}'.format(s1,p1))\n",
    "    print('-'*4 + '{} with probablity {}'.format(s2,p2))"
   ]
  },
  {
   "cell_type": "code",
   "execution_count": null,
   "metadata": {},
   "outputs": [],
   "source": []
  }
 ],
 "metadata": {
  "kernelspec": {
   "display_name": "Python 3",
   "language": "python",
   "name": "python3"
  },
  "language_info": {
   "codemirror_mode": {
    "name": "ipython",
    "version": 3
   },
   "file_extension": ".py",
   "mimetype": "text/x-python",
   "name": "python",
   "nbconvert_exporter": "python",
   "pygments_lexer": "ipython3",
   "version": "3.7.0"
  }
 },
 "nbformat": 4,
 "nbformat_minor": 2
}

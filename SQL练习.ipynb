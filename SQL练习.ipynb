{
 "cells": [
  {
   "cell_type": "markdown",
   "metadata": {},
   "source": [
    "## SQL习题练习"
   ]
  },
  {
   "cell_type": "markdown",
   "metadata": {},
   "source": [
    "学生表 Student"
   ]
  },
  {
   "cell_type": "code",
   "execution_count": null,
   "metadata": {},
   "outputs": [],
   "source": [
    "1.学生表\n",
    "Student(SId,Sname,Sage,Ssex)\n",
    "--SId 学生编号,Sname 学生姓名,Sage 出生年月,Ssex 学生性别"
   ]
  },
  {
   "cell_type": "markdown",
   "metadata": {},
   "source": [
    "create table Student(SId varchar(10),Sname varchar(10),Sage datetime,Ssex varchar(10));\n",
    "insert into Student values('01' , '赵雷' , '1990-01-01' , '男');\n",
    "insert into Student values('02' , '钱电' , '1990-12-21' , '男');\n",
    "insert into Student values('03' , '孙风' , '1990-12-20' , '男');\n",
    "insert into Student values('04' , '李云' , '1990-12-06' , '男');\n",
    "insert into Student values('05' , '周梅' , '1991-12-01' , '女');\n",
    "insert into Student values('06' , '吴兰' , '1992-01-01' , '女');\n",
    "insert into Student values('07' , '郑竹' , '1989-01-01' , '女');\n",
    "insert into Student values('09' , '张三' , '2017-12-20' , '女');\n",
    "insert into Student values('10' , '李四' , '2017-12-25' , '女');\n",
    "insert into Student values('11' , '李四' , '2012-06-06' , '女');\n",
    "insert into Student values('12' , '赵六' , '2013-06-13' , '女');\n",
    "insert into Student values('13' , '孙七' , '2014-06-01' , '女');"
   ]
  },
  {
   "cell_type": "markdown",
   "metadata": {},
   "source": [
    "科目表 Course"
   ]
  },
  {
   "cell_type": "code",
   "execution_count": null,
   "metadata": {},
   "outputs": [],
   "source": [
    "2.课程表\n",
    "Course(CId,Cname,TId)\n",
    "--CId 课程编号,Cname 课程名称,TId 教师编号"
   ]
  },
  {
   "cell_type": "code",
   "execution_count": null,
   "metadata": {},
   "outputs": [],
   "source": [
    "create table Course(CId varchar(10),Cname nvarchar(10),TId varchar(10));\n",
    "insert into Course values('01' , '语文' , '02');\n",
    "insert into Course values('02' , '数学' , '01');\n",
    "insert into Course values('03' , '英语' , '03');"
   ]
  },
  {
   "cell_type": "markdown",
   "metadata": {},
   "source": [
    "教师表 Teacher"
   ]
  },
  {
   "cell_type": "code",
   "execution_count": null,
   "metadata": {},
   "outputs": [],
   "source": [
    "3.教师表\n",
    "Teacher(TId,Tname)\n",
    "--TId 教师编号,Tname 教师姓名"
   ]
  },
  {
   "cell_type": "code",
   "execution_count": null,
   "metadata": {},
   "outputs": [],
   "source": [
    "create table Teacher(TId varchar(10),Tname varchar(10));\n",
    "insert into Teacher values('01' , '张三');\n",
    "insert into Teacher values('02' , '李四');\n",
    "insert into Teacher values('03' , '王五');"
   ]
  },
  {
   "cell_type": "markdown",
   "metadata": {},
   "source": [
    "成绩表 SC"
   ]
  },
  {
   "cell_type": "code",
   "execution_count": null,
   "metadata": {},
   "outputs": [],
   "source": [
    "4.成绩表\n",
    "SC(SId,CId,score)\n",
    "--SId 学生编号,CId 课程编号,score 分数"
   ]
  },
  {
   "cell_type": "code",
   "execution_count": null,
   "metadata": {},
   "outputs": [],
   "source": [
    "create table SC(SId varchar(10),CId varchar(10),score decimal(18,1));\n",
    "insert into SC values('01' , '01' , 80);\n",
    "insert into SC values('01' , '02' , 90);\n",
    "insert into SC values('01' , '03' , 99);\n",
    "insert into SC values('02' , '01' , 70);\n",
    "insert into SC values('02' , '02' , 60);\n",
    "insert into SC values('02' , '03' , 80);\n",
    "insert into SC values('03' , '01' , 80);\n",
    "insert into SC values('03' , '02' , 80);\n",
    "insert into SC values('03' , '03' , 80);\n",
    "insert into SC values('04' , '01' , 50);\n",
    "insert into SC values('04' , '02' , 30);\n",
    "insert into SC values('04' , '03' , 20);\n",
    "insert into SC values('05' , '01' , 76);\n",
    "insert into SC values('05' , '02' , 87);\n",
    "insert into SC values('06' , '01' , 31);\n",
    "insert into SC values('06' , '03' , 34);\n",
    "insert into SC values('07' , '02' , 89);\n",
    "insert into SC values('07' , '03' , 98);"
   ]
  },
  {
   "cell_type": "markdown",
   "metadata": {},
   "source": [
    "### 练习题目"
   ]
  },
  {
   "cell_type": "markdown",
   "metadata": {},
   "source": [
    "1.查询\" 01 \"课程比\" 02 \"课程成绩高的学生的信息及课程分数\n",
    "\n",
    "\n"
   ]
  },
  {
   "cell_type": "markdown",
   "metadata": {},
   "source": [
    "因为需要全部的学生信息，则需要在sc表中得到符合条件的SId后与student表进行join，可以left join 也可以 right join"
   ]
  },
  {
   "cell_type": "code",
   "execution_count": null,
   "metadata": {},
   "outputs": [],
   "source": [
    "select * from Student right join (\n",
    "select t1.Sld, class1, class2 from\n",
    "(select Sld, score as class1 from SC where SC.Cld = '01') as t1,\n",
    "(select Sld, score as class2 from SC where SC.Cld = '02') as t2\n",
    "where t1.Sld = t2.Sld and t1.class1 > t2.class2\n",
    ") as r\n",
    "on Student.Sld = r.Sld;"
   ]
  },
  {
   "cell_type": "code",
   "execution_count": null,
   "metadata": {},
   "outputs": [],
   "source": [
    "select * from  (\n",
    "    select t1.SId, class1, class2 \n",
    "    from\n",
    "        (SELECT SId, score as class1 FROM sc WHERE sc.CId = '01') AS t1, \n",
    "        (SELECT SId, score as class2 FROM sc WHERE sc.CId = '02') AS t2\n",
    "    where t1.SId = t2.SId and t1.class1 > t2.class2\n",
    ") r \n",
    "LEFT JOIN Student\n",
    "ON Student.SId = r.SId;"
   ]
  },
  {
   "cell_type": "markdown",
   "metadata": {},
   "source": [
    "1.1 查询同时存在\" 01 \"课程和\" 02 \"课程的情况"
   ]
  },
  {
   "cell_type": "code",
   "execution_count": null,
   "metadata": {},
   "outputs": [],
   "source": [
    "select * from \n",
    "(select * from sc where sc.Cld = '01') as t1,\n",
    "(select * from sc where sc.Cld = '02') as t2\n",
    "where t1.Sld = t2.Sld;"
   ]
  },
  {
   "cell_type": "markdown",
   "metadata": {},
   "source": [
    "1.2 查询存在\" 01 \"课程但可能不存在\" 02 \"课程的情况(不存在时显示为 null )"
   ]
  },
  {
   "cell_type": "markdown",
   "metadata": {},
   "source": [
    "这一道就是明显需要使用join的情况了，02可能不存在，即为left join的右侧或right join 的左侧即可."
   ]
  },
  {
   "cell_type": "code",
   "execution_count": null,
   "metadata": {},
   "outputs": [],
   "source": [
    "select * \n",
    "from (select * from sc where sc.Cld = '01') as t1\n",
    "left join (select * from sc where sc.Cld = '02') as t2\n",
    "on t1.Sld = t2.Sld;"
   ]
  },
  {
   "cell_type": "code",
   "execution_count": null,
   "metadata": {},
   "outputs": [],
   "source": [
    "select * from \n",
    "(select * from sc where sc.CId = '02') as t2\n",
    "right join \n",
    "(select * from sc where sc.CId = '01') as t1\n",
    "on t1.SId = t2.SId;"
   ]
  },
  {
   "cell_type": "markdown",
   "metadata": {},
   "source": [
    "1.3 查询不存在\" 01 \"课程但存在\" 02 \"课程的情况"
   ]
  },
  {
   "cell_type": "code",
   "execution_count": null,
   "metadata": {},
   "outputs": [],
   "source": [
    "select * from \n",
    "(select * from sc where sc.Cld = '02') as t2\n",
    "left join \n",
    "(select * from sc where sc.Cld = '01') as t1\n",
    "on t2.Sld = t1.Sld\n",
    "where t1.Sld is null;"
   ]
  },
  {
   "cell_type": "code",
   "execution_count": null,
   "metadata": {},
   "outputs": [],
   "source": [
    "select * from sc\n",
    "where sc.sld not in (select * from sc where sc.cld = '01')\n",
    "and sc.cld = '02';"
   ]
  },
  {
   "cell_type": "markdown",
   "metadata": {},
   "source": [
    "2.查询平均成绩大于等于 60 分的同学的学生编号和学生姓名和平均成绩"
   ]
  },
  {
   "cell_type": "markdown",
   "metadata": {},
   "source": [
    "这里只用根据学生ID把成绩分组，对分组中的score求平均值，最后在选取结果中AVG大于60的即可. 注意，这里必须要给计算得到的AVG结果一个alias.（AS ss）\n",
    "得到学生信息的时候既可以用join也可以用一般的联合搜索"
   ]
  },
  {
   "cell_type": "code",
   "execution_count": null,
   "metadata": {},
   "outputs": [],
   "source": [
    "select s.sld, s.sname, r.avgscore from student as s\n",
    "right join (\n",
    "    select sld, avg(score) as avgscore \n",
    "    from sc \n",
    "    group by sld \n",
    "    having avg(score)>=60) as r\n",
    "on s.sld = r.sld;"
   ]
  },
  {
   "cell_type": "code",
   "execution_count": null,
   "metadata": {},
   "outputs": [],
   "source": [
    "select s.sld,s.sname,r.avgscore\n",
    "from student as s,(select sld,avg(score) from sc group by sld having avg(score)>=60) as r\n",
    "where s.sld = r.sld;"
   ]
  },
  {
   "cell_type": "markdown",
   "metadata": {},
   "source": [
    "查询在 SC 表存在成绩的学生信息"
   ]
  },
  {
   "cell_type": "code",
   "execution_count": null,
   "metadata": {},
   "outputs": [],
   "source": []
  }
 ],
 "metadata": {
  "kernelspec": {
   "display_name": "Python 3",
   "language": "python",
   "name": "python3"
  },
  "language_info": {
   "codemirror_mode": {
    "name": "ipython",
    "version": 3
   },
   "file_extension": ".py",
   "mimetype": "text/x-python",
   "name": "python",
   "nbconvert_exporter": "python",
   "pygments_lexer": "ipython3",
   "version": "3.7.0"
  }
 },
 "nbformat": 4,
 "nbformat_minor": 2
}
